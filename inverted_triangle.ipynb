{
 "cells": [
  {
   "cell_type": "markdown",
   "metadata": {},
   "source": [
    "### Lab 2 Exercise 4\n",
    "#### Generate an inverted right triangle of height n."
   ]
  },
  {
   "cell_type": "code",
   "execution_count": null,
   "metadata": {},
   "outputs": [],
   "source": [
    "def print_triangle(n):\n",
    "    for i in reversed(range(n)):\n",
    "        for j in range(i + 1):\n",
    "            print(\"*\", end = \"\")\n",
    "        print()\n",
    "\n",
    "while True:\n",
    "    try:\n",
    "        height = int(input(\"Enter the height of the triangle: \"))\n",
    "        if height < 2:\n",
    "            raise ValueError\n",
    "        break\n",
    "    except ValueError:\n",
    "        print(f\"\\033[91m Error: Height must be an integer greater than 3 to for an inverted triangle. \\033[0m\")\n",
    "\n",
    "print_triangle(height)"
   ]
  }
 ],
 "metadata": {
  "kernelspec": {
   "display_name": "Python 3",
   "language": "python",
   "name": "python3"
  },
  "language_info": {
   "codemirror_mode": {
    "name": "ipython",
    "version": 3
   },
   "file_extension": ".py",
   "mimetype": "text/x-python",
   "name": "python",
   "nbconvert_exporter": "python",
   "pygments_lexer": "ipython3",
   "version": "3.12.0"
  }
 },
 "nbformat": 4,
 "nbformat_minor": 2
}
